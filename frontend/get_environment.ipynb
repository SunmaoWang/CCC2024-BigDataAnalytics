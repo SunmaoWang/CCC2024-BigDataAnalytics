{
 "cells": [
  {
   "cell_type": "code",
   "execution_count": 6,
   "metadata": {},
   "outputs": [
    {
     "name": "stderr",
     "output_type": "stream",
     "text": [
      "/home/chanwang1/ENTER/lib/python3.11/site-packages/urllib3/connectionpool.py:1056: InsecureRequestWarning: Unverified HTTPS request is being made to host '127.0.0.1'. Adding certificate verification is strongly advised. See: https://urllib3.readthedocs.io/en/1.26.x/advanced-usage.html#ssl-warnings\n",
      "  warnings.warn(\n"
     ]
    }
   ],
   "source": [
    "from elasticsearch import Elasticsearch\n",
    "\n",
    "import json\n",
    "\n",
    "es=Elasticsearch('https://127.0.0.1:9200/',\n",
    "                 verify_certs=False,\n",
    "                 basic_auth=('elastic','elastic'))\n",
    "\n",
    "\n",
    "query = {\n",
    "    \"_source\": [\"lga_code\", \"parameters\"],\n",
    "    \"size\": 300,  \n",
    "    \"query\": {\n",
    "        \"match_all\": {}\n",
    "    }\n",
    "}\n",
    "\n",
    "\n",
    "response = es.search(index=\"environmental_data_lga\", body=query)\n",
    "\n",
    "hits = response['hits']['hits']\n",
    "\n",
    "\n",
    "data_to_save = [hit['_source'] for hit in hits]\n",
    "\n",
    "with open('../data/cleaned/environment_lga.json', 'w', encoding='utf-8') as f:\n",
    "    json.dump(data_to_save, f, ensure_ascii=False, indent=4)"
   ]
  }
 ],
 "metadata": {
  "kernelspec": {
   "display_name": "base",
   "language": "python",
   "name": "python3"
  },
  "language_info": {
   "codemirror_mode": {
    "name": "ipython",
    "version": 3
   },
   "file_extension": ".py",
   "mimetype": "text/x-python",
   "name": "python",
   "nbconvert_exporter": "python",
   "pygments_lexer": "ipython3",
   "version": "3.11.4"
  }
 },
 "nbformat": 4,
 "nbformat_minor": 2
}
