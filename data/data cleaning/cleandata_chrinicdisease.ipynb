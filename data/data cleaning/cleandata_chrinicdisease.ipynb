{
 "cells": [
  {
   "cell_type": "code",
   "execution_count": 20,
   "metadata": {},
   "outputs": [],
   "source": [
    "import pandas as pd"
   ]
  },
  {
   "cell_type": "code",
   "execution_count": 26,
   "metadata": {},
   "outputs": [],
   "source": [
    "df = pd.read_csv(\"../raw/lga11_chronicdisease_modelledestimate-2721362504824889085.csv\")\n",
    "\n",
    "df.columns = df.columns.str.strip()"
   ]
  },
  {
   "cell_type": "code",
   "execution_count": 27,
   "metadata": {},
   "outputs": [],
   "source": [
    "column_mapping = {\n",
    "    \"area_code\": \"Local Government Area Code\",\n",
    "    \"area_name\": \"Local Government Area Name\",\n",
    "    \"arthritis_me_1_no_3_11_7_13\": \"Arthritis Count\",\n",
    "    \"arthritis_me_2_rate_3_11_7_13\": \"Arthritis Rate per 100\",\n",
    "    \"arthritis_me_3_rrmse_3_11_7_13\": \"Arthritis RRMSE\",\n",
    "    \"asthma_me_1_no_3_11_7_13\": \"Asthma Count\",\n",
    "    \"asthma_me_2_rate_3_11_7_13\": \"Asthma Rate per 100\",\n",
    "    \"asthma_me_3_rrmse_3_11_7_13\": \"Asthma RRMSE\",\n",
    "    \"circ_me_1_no_3_11_7_13\": \"Circulatory System Diseases Count\",\n",
    "    \"circ_me_2_rate_3_11_7_13\": \"Circulatory System Diseases Rate per 100\",\n",
    "    \"circ_me_3_rrmse_3_11_7_13\": \"Circulatory System Diseases RRMSE\",\n",
    "    \"copd_me_1_no_3_11_7_13\": \"Chronic Obstructive Pulmonary Disease Count\",\n",
    "    \"copd_me_2_rate_3_11_7_13\": \"Chronic Obstructive Pulmonary Disease Rate per 100\",\n",
    "    \"copd_me_3_rrmse_3_11_7_13\": \"Chronic Obstructive Pulmonary Disease RRMSE\",\n",
    "    \"diabetes_me_1_no_3_11_7_13\": \"Diabetes Count\",\n",
    "    \"diabetes_me_2_rate_3_11_7_13\": \"Diabetes Rate per 100\",\n",
    "    \"diabetes_me_3_rrmse_3_11_7_13\": \"Diabetes RRMSE\",\n",
    "    \"hg_choles_me_1_no_3_11_7_13\": \"High Cholesterol Count\",\n",
    "    \"hg_choles_me_2_rate_3_11_7_13\": \"High Cholesterol Rate per 100\",\n",
    "    \"hg_choles_me_3_rrmse_3_11_7_13\": \"High Cholesterol RRMSE\",\n",
    "    \"hypertens_me_1_no_3_11_7_13\": \"Hypertension Count\",\n",
    "    \"hypertens_me_2_rate_3_11_7_13\": \"Hypertension Rate per 100\",\n",
    "    \"hypertens_me_3_rrmse_3_11_7_13\": \"Hypertension RRMSE\",\n",
    "    \"mntl_bh_f_me_1_no_3_11_7_13\": \"Females with Mental and Behavioural Problems Count\",\n",
    "    \"mntl_bh_f_me_2_rate_3_11_7_13\": \"Females with Mental and Behavioural Problems Rate per 100\",\n",
    "    \"mntl_bh_f_me_3_rrmse_3_11_7_13\": \"Females with Mental and Behavioural Problems RRMSE\",\n",
    "    \"mntl_bh_m_me_1_no_3_11_7_13\": \"Males with Mental and Behavioural Problems Count\",\n",
    "    \"mntl_bh_m_me_2_rate_3_11_7_13\": \"Males with Mental and Behavioural Problems Rate per 100\",\n",
    "    \"mntl_bh_m_me_3_rrmse_3_11_7_13\": \"Males with Mental and Behavioural Problems RRMSE\",\n",
    "    \"mntl_bh_p_me_1_no_3_11_7_13\": \"Persons with Mental and Behavioural Problems Count\",\n",
    "    \"mntl_bh_p_me_2_rate_3_11_7_13\": \"Persons with Mental and Behavioural Problems Rate per 100\",\n",
    "    \"mntl_bh_p_me_3_rrmse_3_11_7_13\": \"Persons with Mental and Behavioural Problems RRMSE\",\n",
    "    \"musculo_me_1_no_3_11_7_13\": \"Musculoskeletal System Diseases Count\",\n",
    "    \"musculo_me_2_rate_3_11_7_13\": \"Musculoskeletal System Diseases Rate per 100\",\n",
    "    \"musculo_me_3_rrmse_3_11_7_13\": \"Musculoskeletal System Diseases RRMSE\",\n",
    "    \"respirtry_me_1_no_3_11_7_13\": \"Respiratory System Diseases Count\",\n",
    "    \"respirtry_me_2_rate_3_11_7_13\": \"Respiratory System Diseases Rate per 100\",\n",
    "    \"respirtry_me_3_rrmse_3_11_7_13\": \"Respiratory System Diseases RRMSE\"\n",
    "}"
   ]
  },
  {
   "cell_type": "code",
   "execution_count": 28,
   "metadata": {},
   "outputs": [],
   "source": [
    "df.rename(columns=column_mapping, inplace=True)"
   ]
  },
  {
   "cell_type": "code",
   "execution_count": 30,
   "metadata": {},
   "outputs": [],
   "source": [
    "cols = ['Local Government Area Code', 'Local Government Area Name'] + [col for col in df.columns if col not in ['Local Government Area Code', 'Local Government Area Name']]\n",
    "\n",
    "df = df[cols]"
   ]
  },
  {
   "cell_type": "code",
   "execution_count": 34,
   "metadata": {},
   "outputs": [],
   "source": [
    "df.to_json(\"../cleaned/chronic_disease.json\", index=False)"
   ]
  }
 ],
 "metadata": {
  "kernelspec": {
   "display_name": "Python 3",
   "language": "python",
   "name": "python3"
  },
  "language_info": {
   "codemirror_mode": {
    "name": "ipython",
    "version": 3
   },
   "file_extension": ".py",
   "mimetype": "text/x-python",
   "name": "python",
   "nbconvert_exporter": "python",
   "pygments_lexer": "ipython3",
   "version": "3.12.2"
  }
 },
 "nbformat": 4,
 "nbformat_minor": 2
}
