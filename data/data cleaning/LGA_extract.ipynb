{
 "cells": [
  {
   "cell_type": "code",
   "execution_count": 3,
   "metadata": {},
   "outputs": [],
   "source": [
    "from osgeo import ogr\n",
    "import geopandas as gpd\n",
    "\n",
    "# Path to your shapefile\n",
    "shp_file = r\"C:\\Users\\zhenn\\OneDrive\\Desktop\\Order_SLCJ6K\\gda2020_vicgrid\\esrishape\\whole_of_dataset\\victoria\\VMADMIN\\LGA_POLYGON.shp\"\n",
    "gdf = gpd.read_file(shp_file)\n"
   ]
  },
  {
   "cell_type": "code",
   "execution_count": 4,
   "metadata": {},
   "outputs": [],
   "source": [
    "lga_mapping = {\"9\":\"Victoria\",\"10\":\"Alpine \",\"11\":\"Ararat \",\"12\":\"Ballarat \",\"13\":\"Banyule \",\"14\":\"Bass Coast \",\"15\":\"Baw Baw \",\"16\":\"Bayside \",\"17\":\"Benalla \",\"18\":\"Boroondara \",\"19\":\"Brimbank \",\"20\":\"Buloke \",\"21\":\"Campaspe \",\"22\":\"Cardinia \",\"23\":\"Casey \",\"24\":\"Central Goldfields \",\"25\":\"Colac-Otway \",\"26\":\"Corangamite \",\"27\":\"Darebin \",\"28\":\"East Gippsland \",\"29\":\"Frankston \",\"30\":\"Gannawarra \",\"31\":\"Glen Eira \",\"32\":\"Glenelg \",\"33\":\"Golden Plains \",\"34\":\"Greater Bendigo \",\"35\":\"Greater Dandenong \",\"36\":\"Greater Geelong \",\"37\":\"Greater Shepparton \",\"38\":\"Hepburn \",\"39\":\"Hindmarsh \",\"40\":\"Hobsons Bay \",\"41\":\"Horsham \",\"42\":\"Hume \",\"43\":\"Indigo \",\"44\":\"Kingston  \",\"45\":\"Knox \",\"46\":\"Latrobe  \",\"47\":\"Loddon \",\"48\":\"Macedon Ranges \",\"49\":\"Manningham \",\"50\":\"Mansfield \",\"51\":\"Maribyrnong \",\"52\":\"Maroondah \",\"53\":\"Melbourne \",\"54\":\"Melton \",\"55\":\"Mildura \",\"56\":\"Mitchell \",\"57\":\"Moira \",\"58\":\"Monash \",\"59\":\"Moonee Valley \",\"60\":\"Moorabool \",\"61\":\"Merri-bek \",\"62\":\"Mornington Peninsula \",\"63\":\"Mount Alexander \",\"64\":\"Moyne \",\"65\":\"Murrindindi \",\"66\":\"Nillumbik \",\"67\":\"Northern Grampians \",\"68\":\"Port Phillip \",\"69\":\"Pyrenees \",\"70\":\"Queenscliffe \",\"71\":\"South Gippsland \",\"72\":\"Southern Grampians \",\"73\":\"Stonnington \",\"74\":\"Strathbogie \",\"75\":\"Surf Coast \",\"76\":\"Swan Hill \",\"77\":\"Towong \",\"78\":\"Wangaratta \",\"79\":\"Warrnambool \",\"80\":\"Wellington \",\"81\":\"West Wimmera \",\"82\":\"Whitehorse \",\"83\":\"Whittlesea \",\"84\":\"Wodonga \",\"85\":\"Wyndham \",\"86\":\"Yarra \",\"87\":\"Yarra Ranges \",\"88\":\"Yarriambiack \",\"89\":\"Unincorporated Vic\"}"
   ]
  },
  {
   "cell_type": "code",
   "execution_count": 5,
   "metadata": {},
   "outputs": [
    {
     "name": "stdout",
     "output_type": "stream",
     "text": [
      "['alpine', 'ararat', 'ballarat', 'banyule', 'bass coast', 'baw baw', 'bayside', 'benalla', 'boroondara', 'brimbank', 'buloke', 'campaspe', 'cardinia', 'casey', 'central goldfields', 'colac-otway', 'corangamite', 'darebin', 'east gippsland', 'frankston', 'gannawarra', 'glen eira', 'glenelg', 'golden plains', 'greater bendigo', 'greater dandenong', 'greater geelong', 'greater shepparton', 'hepburn', 'hindmarsh', 'hobsons bay', 'horsham', 'hume', 'indigo', 'kingston', 'knox', 'latrobe', 'loddon', 'macedon ranges', 'manningham', 'mansfield', 'maribyrnong', 'maroondah', 'melbourne', 'melton', 'merri-bek', 'mildura', 'mitchell', 'moira', 'monash', 'moonee valley', 'moorabool', 'mornington peninsula', 'mount alexander', 'moyne', 'murrindindi', 'nillumbik', 'northern grampians', 'port phillip', 'pyrenees', 'queenscliffe', 'south gippsland', 'southern grampians', 'stonnington', 'strathbogie', 'surf coast', 'swan hill', 'towong', 'unincorporated vic', 'victoria', 'wangaratta', 'warrnambool', 'wellington', 'west wimmera', 'whitehorse', 'whittlesea', 'wodonga', 'wyndham', 'yarra', 'yarra ranges', 'yarriambiack']\n",
      "['alpine', 'ararat', 'ballarat', 'banyule', 'bass coast', 'baw baw', 'bayside', 'benalla', 'boroondara', 'brimbank', 'buloke', 'campaspe', 'cardinia', 'casey', 'central goldfields', 'colac otway', 'corangamite', 'darebin', 'east gippsland', 'falls creek alpine resort (uninc)', 'frankston', 'french-elizabeth-sandstone islands (uninc)', 'gabo island (uninc)', 'gannawarra', 'glen eira', 'glenelg', 'golden plains', 'greater bendigo', 'greater dandenong', 'greater geelong', 'greater shepparton', 'hepburn', 'hindmarsh', 'hobsons bay', 'horsham', 'hume', 'indigo', 'kingston', 'knox', 'lake mountain alpine resort (uninc)', 'latrobe', 'loddon', 'macedon ranges', 'manningham', 'mansfield', 'maribyrnong', 'maroondah', 'melbourne', 'melton', 'merri-bek', 'mildura', 'mitchell', 'moira', 'monash', 'moonee valley', 'moorabool', 'mornington peninsula', 'mount alexander', 'mount baw baw alpine resort (uninc)', 'mount buller alpine resort (uninc)', 'mount hotham alpine resort (uninc)', 'mount stirling alpine resort (uninc)', 'moyne', 'murrindindi', 'nillumbik', 'northern grampians', 'port phillip', 'pyrenees', 'queenscliffe', 'south gippsland', 'southern grampians', 'stonnington', 'strathbogie', 'surf coast', 'swan hill', 'towong', 'wangaratta', 'warrnambool', 'wellington', 'west wimmera', 'whitehorse', 'whittlesea', 'wodonga', 'wyndham', 'yarra', 'yarra ranges', 'yarriambiack']\n",
      "LGA names not in the dictionary:\n",
      "colac otway\n",
      "falls creek alpine resort (uninc)\n",
      "french-elizabeth-sandstone islands (uninc)\n",
      "gabo island (uninc)\n",
      "lake mountain alpine resort (uninc)\n",
      "mount baw baw alpine resort (uninc)\n",
      "mount buller alpine resort (uninc)\n",
      "mount hotham alpine resort (uninc)\n",
      "mount stirling alpine resort (uninc)\n",
      "\n",
      "LGA names from dictionary not in list:\n",
      "victoria\n",
      "colac-otway\n",
      "unincorporated vic\n"
     ]
    }
   ],
   "source": [
    "# LGA names not in the dictionary\n",
    "lga_list = gdf['LGA_NAME']\n",
    "\n",
    "# Convert all LGA names to lowercase\n",
    "lga_list = [lga_name.lower() for lga_name in lga_list]\n",
    "lga_list.sort()\n",
    "\n",
    "# Convert all dictionary values to lowercase\n",
    "lga_mapping = {key: value.strip().lower() for key, value in lga_mapping.items() if value.strip()}\n",
    "\n",
    "sorted_values = sorted(lga_mapping.values())\n",
    "\n",
    "print(sorted_values)\n",
    "\n",
    "print(lga_list)\n",
    "\n",
    "lga_not_in_dict = [lga_name for lga_name in lga_list if lga_name not in sorted_values]\n",
    "\n",
    "# LGA names from dictionary not in list\n",
    "lga_dict_not_in_list = [lga_name for lga_name in lga_mapping.values() if lga_name not in lga_list]\n",
    "\n",
    "# Print LGA names not in the dictionary\n",
    "print(\"LGA names not in the dictionary:\")\n",
    "for lga_name in lga_not_in_dict:\n",
    "    print(lga_name)\n",
    "\n",
    "# Print LGA names from dictionary not in list\n",
    "print(\"\\nLGA names from dictionary not in list:\")\n",
    "for lga_name in lga_dict_not_in_list:\n",
    "    print(lga_name)"
   ]
  },
  {
   "cell_type": "code",
   "execution_count": 6,
   "metadata": {},
   "outputs": [
    {
     "name": "stdout",
     "output_type": "stream",
     "text": [
      "0     FRENCH-ELIZABETH-SANDSTONE ISLANDS (UNINC)\n",
      "1                                      NILLUMBIK\n",
      "2                                       CARDINIA\n",
      "3                                     MANNINGHAM\n",
      "4                                          CASEY\n",
      "                         ...                    \n",
      "82                                     MAROONDAH\n",
      "83                                   MURRINDINDI\n",
      "84                                     MANSFIELD\n",
      "85           LAKE MOUNTAIN ALPINE RESORT (UNINC)\n",
      "86                                       BAW BAW\n",
      "Name: LGA_NAME, Length: 87, dtype: object\n"
     ]
    }
   ],
   "source": [
    "gdf['LGA_NAME'] = gdf['LGA_NAME'].str.replace('colac otway', 'colac-otway', case=False)\n",
    "\n",
    "\n",
    "# Print the updated 'LGA' column\n",
    "print(gdf['LGA_NAME'])"
   ]
  },
  {
   "cell_type": "code",
   "execution_count": 7,
   "metadata": {},
   "outputs": [
    {
     "name": "stdout",
     "output_type": "stream",
     "text": [
      "1        nillumbik\n",
      "2         cardinia\n",
      "3       manningham\n",
      "4            casey\n",
      "5     yarra ranges\n",
      "          ...     \n",
      "81          towong\n",
      "82       maroondah\n",
      "83     murrindindi\n",
      "84       mansfield\n",
      "86         baw baw\n",
      "Name: LGA_NAME, Length: 79, dtype: object\n"
     ]
    }
   ],
   "source": [
    "filtered_gdf = gdf\n",
    "\n",
    "names_to_remove = [\n",
    "    'falls creek alpine resort (uninc)',\n",
    "    'french-elizabeth-sandstone islands (uninc)',\n",
    "    'gabo island (uninc)',\n",
    "    'lake mountain alpine resort (uninc)',\n",
    "    'mount baw baw alpine resort (uninc)',\n",
    "    'mount buller alpine resort (uninc)',\n",
    "    'mount hotham alpine resort (uninc)',\n",
    "    'mount stirling alpine resort (uninc)'\n",
    "]\n",
    "\n",
    "# Clean up the names in the 'LGA' column of filtered_gdf\n",
    "filtered_gdf['LGA_NAME'] = filtered_gdf['LGA_NAME'].str.strip().str.lower()\n",
    "\n",
    "# Clean up the names in the names_to_remove list\n",
    "names_to_remove_cleaned = [name.strip().lower() for name in names_to_remove]\n",
    "\n",
    "# Remove rows with specified cleaned LGA names\n",
    "filtered_gdf = filtered_gdf[~filtered_gdf['LGA_NAME'].isin(names_to_remove_cleaned)]\n",
    "\n",
    "# Print the updated GeoDataFrame\n",
    "print(filtered_gdf['LGA_NAME'])\n"
   ]
  },
  {
   "cell_type": "code",
   "execution_count": 8,
   "metadata": {},
   "outputs": [
    {
     "name": "stdout",
     "output_type": "stream",
     "text": [
      "['alpine', 'ararat', 'ballarat', 'banyule', 'bass coast', 'baw baw', 'bayside', 'benalla', 'boroondara', 'brimbank', 'buloke', 'campaspe', 'cardinia', 'casey', 'central goldfields', 'colac-otway', 'corangamite', 'darebin', 'east gippsland', 'frankston', 'gannawarra', 'glen eira', 'glenelg', 'golden plains', 'greater bendigo', 'greater dandenong', 'greater geelong', 'greater shepparton', 'hepburn', 'hindmarsh', 'hobsons bay', 'horsham', 'hume', 'indigo', 'kingston', 'knox', 'latrobe', 'loddon', 'macedon ranges', 'manningham', 'mansfield', 'maribyrnong', 'maroondah', 'melbourne', 'melton', 'merri-bek', 'mildura', 'mitchell', 'moira', 'monash', 'moonee valley', 'moorabool', 'mornington peninsula', 'mount alexander', 'moyne', 'murrindindi', 'nillumbik', 'northern grampians', 'port phillip', 'pyrenees', 'queenscliffe', 'south gippsland', 'southern grampians', 'stonnington', 'strathbogie', 'surf coast', 'swan hill', 'towong', 'unincorporated vic', 'victoria', 'wangaratta', 'warrnambool', 'wellington', 'west wimmera', 'whitehorse', 'whittlesea', 'wodonga', 'wyndham', 'yarra', 'yarra ranges', 'yarriambiack']\n",
      "['alpine', 'ararat', 'ballarat', 'banyule', 'bass coast', 'baw baw', 'bayside', 'benalla', 'boroondara', 'brimbank', 'buloke', 'campaspe', 'cardinia', 'casey', 'central goldfields', 'colac-otway', 'corangamite', 'darebin', 'east gippsland', 'frankston', 'gannawarra', 'glen eira', 'glenelg', 'golden plains', 'greater bendigo', 'greater dandenong', 'greater geelong', 'greater shepparton', 'hepburn', 'hindmarsh', 'hobsons bay', 'horsham', 'hume', 'indigo', 'kingston', 'knox', 'latrobe', 'loddon', 'macedon ranges', 'manningham', 'mansfield', 'maribyrnong', 'maroondah', 'melbourne', 'melton', 'merri-bek', 'mildura', 'mitchell', 'moira', 'monash', 'moonee valley', 'moorabool', 'mornington peninsula', 'mount alexander', 'moyne', 'murrindindi', 'nillumbik', 'northern grampians', 'port phillip', 'pyrenees', 'queenscliffe', 'south gippsland', 'southern grampians', 'stonnington', 'strathbogie', 'surf coast', 'swan hill', 'towong', 'wangaratta', 'warrnambool', 'wellington', 'west wimmera', 'whitehorse', 'whittlesea', 'wodonga', 'wyndham', 'yarra', 'yarra ranges', 'yarriambiack']\n",
      "LGA names not in the dictionary:\n",
      "\n",
      "LGA names from dictionary not in list:\n",
      "victoria\n",
      "unincorporated vic\n"
     ]
    }
   ],
   "source": [
    "# LGA names not in the dictionary\n",
    "lga_list = filtered_gdf['LGA_NAME']\n",
    "\n",
    "# Convert all LGA names to lowercase\n",
    "lga_list = [lga_name.lower() for lga_name in lga_list]\n",
    "lga_list.sort()\n",
    "\n",
    "# Convert all dictionary values to lowercase\n",
    "lga_mapping = {key: value.strip().lower() for key, value in lga_mapping.items() if value.strip()}\n",
    "\n",
    "sorted_values = sorted(lga_mapping.values())\n",
    "\n",
    "print(sorted_values)\n",
    "\n",
    "print(lga_list)\n",
    "\n",
    "lga_not_in_dict = [lga_name for lga_name in lga_list if lga_name not in sorted_values]\n",
    "\n",
    "# LGA names from dictionary not in list\n",
    "lga_dict_not_in_list = [lga_name for lga_name in lga_mapping.values() if lga_name not in lga_list]\n",
    "\n",
    "# Print LGA names not in the dictionary\n",
    "print(\"LGA names not in the dictionary:\")\n",
    "for lga_name in lga_not_in_dict:\n",
    "    print(lga_name)\n",
    "\n",
    "# Print LGA names from dictionary not in list\n",
    "print(\"\\nLGA names from dictionary not in list:\")\n",
    "for lga_name in lga_dict_not_in_list:\n",
    "    print(lga_name)"
   ]
  },
  {
   "cell_type": "code",
   "execution_count": 9,
   "metadata": {},
   "outputs": [],
   "source": [
    "# Save the updated GeoDataFrame to a shapefile\n",
    "filtered_gdf.to_file(r\"C:\\Users\\zhenn\\OneDrive\\桌面\\Order_SLCJ6K\\gda2020_vicgrid\\esrishape\\whole_of_dataset\\victoria\\VMADMIN\\LGA.shp\")"
   ]
  },
  {
   "cell_type": "code",
   "execution_count": 10,
   "metadata": {},
   "outputs": [
    {
     "name": "stdout",
     "output_type": "stream",
     "text": [
      "GeoJSON saved successfully to: output.json\n"
     ]
    }
   ],
   "source": [
    "# Define the file path where you want to save the GeoJSON\n",
    "output_file_path = \"output.json\"\n",
    "\n",
    "# Convert GeoDataFrame to GeoJSON string\n",
    "geojson_str = gdf.to_json()\n",
    "\n",
    "# Write the GeoJSON string to a file with .json extension\n",
    "with open(output_file_path, 'w') as f:\n",
    "    f.write(geojson_str)\n",
    "\n",
    "print(\"GeoJSON saved successfully to:\", output_file_path)\n"
   ]
  },
  {
   "cell_type": "code",
   "execution_count": 11,
   "metadata": {},
   "outputs": [],
   "source": [
    "# Save the updated GeoDataFrame to a shapefile\n",
    "filtered_gdf.to_file(r\"C:\\Users\\zhenn\\OneDrive\\桌面\\Order_SLCJ6K\\gda2020_vicgrid\\esrishape\\whole_of_dataset\\victoria\\VMREFTAB\\output.shp\")"
   ]
  }
 ],
 "metadata": {
  "kernelspec": {
   "display_name": "base",
   "language": "python",
   "name": "python3"
  },
  "language_info": {
   "codemirror_mode": {
    "name": "ipython",
    "version": 3
   },
   "file_extension": ".py",
   "mimetype": "text/x-python",
   "name": "python",
   "nbconvert_exporter": "python",
   "pygments_lexer": "ipython3",
   "version": "3.11.7"
  }
 },
 "nbformat": 4,
 "nbformat_minor": 2
}
