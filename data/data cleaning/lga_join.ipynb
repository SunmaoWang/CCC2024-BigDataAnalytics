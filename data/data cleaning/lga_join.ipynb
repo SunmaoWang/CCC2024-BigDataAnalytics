{
 "cells": [
  {
   "cell_type": "code",
   "execution_count": 1,
   "metadata": {},
   "outputs": [],
   "source": [
    "import geopandas as gpd\n",
    "\n",
    "file_path = '/Users/sunmaowang/Documents/GitHub/CCC2024-BigDataAnalytics/data/cleaned/LGA_useful_geo/useful.shp'\n",
    "data = gpd.read_file(file_path)"
   ]
  },
  {
   "cell_type": "code",
   "execution_count": 3,
   "metadata": {},
   "outputs": [
    {
     "data": {
      "text/html": [
       "<div>\n",
       "<style scoped>\n",
       "    .dataframe tbody tr th:only-of-type {\n",
       "        vertical-align: middle;\n",
       "    }\n",
       "\n",
       "    .dataframe tbody tr th {\n",
       "        vertical-align: top;\n",
       "    }\n",
       "\n",
       "    .dataframe thead th {\n",
       "        text-align: right;\n",
       "    }\n",
       "</style>\n",
       "<table border=\"1\" class=\"dataframe\">\n",
       "  <thead>\n",
       "    <tr style=\"text-align: right;\">\n",
       "      <th></th>\n",
       "      <th>ABSLGACODE</th>\n",
       "      <th>LGA_NAME</th>\n",
       "      <th>geometry</th>\n",
       "    </tr>\n",
       "  </thead>\n",
       "  <tbody>\n",
       "    <tr>\n",
       "      <th>0</th>\n",
       "      <td>25710</td>\n",
       "      <td>nillumbik</td>\n",
       "      <td>POLYGON ((2510304.792 2423656.532, 2510085.251...</td>\n",
       "    </tr>\n",
       "    <tr>\n",
       "      <th>1</th>\n",
       "      <td>21450</td>\n",
       "      <td>cardinia</td>\n",
       "      <td>POLYGON ((2566196.702 2374717.795, 2566192.861...</td>\n",
       "    </tr>\n",
       "    <tr>\n",
       "      <th>2</th>\n",
       "      <td>24210</td>\n",
       "      <td>manningham</td>\n",
       "      <td>POLYGON ((2508276.751 2413515.594, 2508242.750...</td>\n",
       "    </tr>\n",
       "    <tr>\n",
       "      <th>3</th>\n",
       "      <td>21610</td>\n",
       "      <td>casey</td>\n",
       "      <td>POLYGON ((2536733.566 2364484.988, 2536709.616...</td>\n",
       "    </tr>\n",
       "    <tr>\n",
       "      <th>4</th>\n",
       "      <td>27450</td>\n",
       "      <td>yarra ranges</td>\n",
       "      <td>POLYGON ((2570338.161 2408044.356, 2570380.255...</td>\n",
       "    </tr>\n",
       "    <tr>\n",
       "      <th>...</th>\n",
       "      <td>...</td>\n",
       "      <td>...</td>\n",
       "      <td>...</td>\n",
       "    </tr>\n",
       "    <tr>\n",
       "      <th>74</th>\n",
       "      <td>26670</td>\n",
       "      <td>towong</td>\n",
       "      <td>POLYGON ((2694525.399 2565198.284, 2694510.597...</td>\n",
       "    </tr>\n",
       "    <tr>\n",
       "      <th>75</th>\n",
       "      <td>24410</td>\n",
       "      <td>maroondah</td>\n",
       "      <td>POLYGON ((2527957.806 2408570.416, 2528057.165...</td>\n",
       "    </tr>\n",
       "    <tr>\n",
       "      <th>76</th>\n",
       "      <td>25620</td>\n",
       "      <td>murrindindi</td>\n",
       "      <td>MULTIPOLYGON (((2575080.282 2441049.421, 25748...</td>\n",
       "    </tr>\n",
       "    <tr>\n",
       "      <th>77</th>\n",
       "      <td>24250</td>\n",
       "      <td>mansfield</td>\n",
       "      <td>POLYGON ((2586037.292 2470362.752, 2586030.009...</td>\n",
       "    </tr>\n",
       "    <tr>\n",
       "      <th>78</th>\n",
       "      <td>20830</td>\n",
       "      <td>baw baw</td>\n",
       "      <td>POLYGON ((2566992.271 2389671.271, 2566997.438...</td>\n",
       "    </tr>\n",
       "  </tbody>\n",
       "</table>\n",
       "<p>79 rows × 3 columns</p>\n",
       "</div>"
      ],
      "text/plain": [
       "   ABSLGACODE      LGA_NAME                                           geometry\n",
       "0       25710     nillumbik  POLYGON ((2510304.792 2423656.532, 2510085.251...\n",
       "1       21450      cardinia  POLYGON ((2566196.702 2374717.795, 2566192.861...\n",
       "2       24210    manningham  POLYGON ((2508276.751 2413515.594, 2508242.750...\n",
       "3       21610         casey  POLYGON ((2536733.566 2364484.988, 2536709.616...\n",
       "4       27450  yarra ranges  POLYGON ((2570338.161 2408044.356, 2570380.255...\n",
       "..        ...           ...                                                ...\n",
       "74      26670        towong  POLYGON ((2694525.399 2565198.284, 2694510.597...\n",
       "75      24410     maroondah  POLYGON ((2527957.806 2408570.416, 2528057.165...\n",
       "76      25620   murrindindi  MULTIPOLYGON (((2575080.282 2441049.421, 25748...\n",
       "77      24250     mansfield  POLYGON ((2586037.292 2470362.752, 2586030.009...\n",
       "78      20830       baw baw  POLYGON ((2566992.271 2389671.271, 2566997.438...\n",
       "\n",
       "[79 rows x 3 columns]"
      ]
     },
     "execution_count": 3,
     "metadata": {},
     "output_type": "execute_result"
    }
   ],
   "source": [
    "data"
   ]
  },
  {
   "cell_type": "code",
   "execution_count": 4,
   "metadata": {},
   "outputs": [],
   "source": [
    "data = data[['LGA_NAME', 'geometry']]"
   ]
  },
  {
   "cell_type": "code",
   "execution_count": 5,
   "metadata": {},
   "outputs": [],
   "source": [
    "output_path = '/Users/sunmaowang/Documents/GitHub/CCC2024-BigDataAnalytics/data/cleaned/LGA_useful_geo/lga_for_join.json'\n",
    "data.to_file(output_path, driver='GeoJSON')"
   ]
  }
 ],
 "metadata": {
  "kernelspec": {
   "display_name": "Python 3",
   "language": "python",
   "name": "python3"
  },
  "language_info": {
   "codemirror_mode": {
    "name": "ipython",
    "version": 3
   },
   "file_extension": ".py",
   "mimetype": "text/x-python",
   "name": "python",
   "nbconvert_exporter": "python",
   "pygments_lexer": "ipython3",
   "version": "3.12.2"
  }
 },
 "nbformat": 4,
 "nbformat_minor": 2
}
